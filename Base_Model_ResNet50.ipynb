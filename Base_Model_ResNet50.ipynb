{
 "cells": [
  {
   "cell_type": "markdown",
   "metadata": {},
   "source": [
    "# Transfer Learning using ResNet50"
   ]
  },
  {
   "cell_type": "markdown",
   "metadata": {},
   "source": [
    "## Imports and Preprocess"
   ]
  },
  {
   "cell_type": "markdown",
   "metadata": {},
   "source": [
    "Import libraries"
   ]
  },
  {
   "cell_type": "code",
   "execution_count": 1,
   "metadata": {},
   "outputs": [
    {
     "name": "stderr",
     "output_type": "stream",
     "text": [
      "Using TensorFlow backend.\n"
     ]
    }
   ],
   "source": [
    "import numpy as np\n",
    "import pandas as pd\n",
    "\n",
    "import pickle\n",
    "from sklearn.preprocessing import LabelEncoder\n",
    "from sklearn.model_selection import train_test_split\n",
    "from tensorflow import set_random_seed\n",
    "from keras.applications.resnet50 import ResNet50, preprocess_input as resnet50_preprocess\n",
    "#from keras.applications.densenet import DenseNet201\n",
    "#from keras.applications.mobilenet_v2 import MobileNetV2\n",
    "#from keras.applications.nasnet import NASNetMobile\n",
    "from keras.preprocessing.image import ImageDataGenerator\n",
    "from keras.utils.np_utils import to_categorical\n",
    "from keras.callbacks import EarlyStopping, ModelCheckpoint\n",
    "\n",
    "from src.sampler import train_test_bootstrapper\n",
    "from src.model_api import getPretrainedModel"
   ]
  },
  {
   "cell_type": "markdown",
   "metadata": {},
   "source": [
    "Import data"
   ]
  },
  {
   "cell_type": "code",
   "execution_count": 2,
   "metadata": {},
   "outputs": [
    {
     "name": "stdout",
     "output_type": "stream",
     "text": [
      "Shape of data_train: (25361, 224, 224, 3)\n",
      "Length of labels_train: 25361\n"
     ]
    }
   ],
   "source": [
    "with open('data/derived/data_train.pickle', 'rb') as file:\n",
    "    data_train = pickle.load(file)\n",
    "with open('data/derived/labels_train.pickle', 'rb') as file:\n",
    "    labels_train = pickle.load(file)\n",
    "print('Shape of data_train:', data_train.shape)\n",
    "print('Length of labels_train:', len(labels_train))"
   ]
  },
  {
   "cell_type": "markdown",
   "metadata": {},
   "source": [
    "Convert labels to integers for model training"
   ]
  },
  {
   "cell_type": "code",
   "execution_count": 3,
   "metadata": {},
   "outputs": [
    {
     "name": "stdout",
     "output_type": "stream",
     "text": [
      "Original labels: ['w_025911c', 'new_whale', 'new_whale', 'new_whale', 'new_whale']\n",
      "Encoded labels: [44  0  0  0  0]\n",
      "Label encoder classes: ['new_whale' 'w_0003639' 'w_0003c59' 'w_0027efa' 'w_00289b1']\n"
     ]
    }
   ],
   "source": [
    "label_encoder = LabelEncoder()\n",
    "labels_train_encoded = label_encoder.fit_transform(labels_train)\n",
    "print('Original labels: {}'.format(labels_train[:5]))\n",
    "print('Encoded labels: {}'.format(labels_train_encoded[:5]))\n",
    "print('Label encoder classes: {}'.format(label_encoder.classes_[:5]))"
   ]
  },
  {
   "cell_type": "markdown",
   "metadata": {},
   "source": [
    "Compute sample size and number of classes"
   ]
  },
  {
   "cell_type": "code",
   "execution_count": 4,
   "metadata": {},
   "outputs": [
    {
     "name": "stdout",
     "output_type": "stream",
     "text": [
      "Sample size: 25361\n",
      "Number of clases: 5005\n"
     ]
    }
   ],
   "source": [
    "sample_size = len(labels_train_encoded)\n",
    "num_classes = len(set(labels_train_encoded))\n",
    "print('Sample size:', sample_size)\n",
    "print('Number of clases:', num_classes)"
   ]
  },
  {
   "cell_type": "markdown",
   "metadata": {},
   "source": [
    "## Train ResNet50"
   ]
  },
  {
   "cell_type": "markdown",
   "metadata": {},
   "source": [
    "ResNet Model 1 (Random Seed = 1, assuming no class imbalance)"
   ]
  },
  {
   "cell_type": "code",
   "execution_count": 5,
   "metadata": {},
   "outputs": [],
   "source": [
    "filepath = 'models/weights-{epoch:02d}-{val_loss:.3f}.hdf5'\n",
    "checkpoint = ModelCheckpoint(filepath, monitor='val_loss', save_best_only=True, save_weights_only=True,\n",
    "                             mode='min')\n",
    "early_stop = EarlyStopping(patience=2, monitor='val_loss')\n",
    "\n",
    "model = getPretrainedModel(ResNet50(include_top=False, weights='imagenet', pooling='max'),\n",
    "                           num_classes=len(set(labels_train_encoded)),\n",
    "                           percent_layers_freeze=0.1)\n",
    "\n",
    "batch_size = 32\n",
    "image_gen = ImageDataGenerator(rotation_range=20,\n",
    "                               width_shift_range=.1,\n",
    "                               height_shift_range=.1,\n",
    "                               shear_range=0.5,\n",
    "                               zoom_range=(0.9, 1.1),\n",
    "                               fill_mode='constant',\n",
    "                               horizontal_flip=True)"
   ]
  },
  {
   "cell_type": "code",
   "execution_count": 6,
   "metadata": {},
   "outputs": [
    {
     "name": "stdout",
     "output_type": "stream",
     "text": [
      "Epoch 1/10\n",
      "5072/5072 [==============================] - 1229s 242ms/step - loss: 6.0779 - acc: 0.3824 - val_loss: 6.5845 - val_acc: 0.3789\n",
      "Epoch 2/10\n",
      "5072/5072 [==============================] - 1227s 242ms/step - loss: 5.4525 - acc: 0.3826 - val_loss: 6.5948 - val_acc: 0.3789\n",
      "Epoch 3/10\n",
      "5072/5072 [==============================] - 1220s 241ms/step - loss: 5.2665 - acc: 0.3834 - val_loss: 6.4763 - val_acc: 0.3802\n",
      "Epoch 4/10\n",
      "5072/5072 [==============================] - 1225s 242ms/step - loss: 5.2000 - acc: 0.3843 - val_loss: 6.5521 - val_acc: 0.3792\n",
      "Epoch 5/10\n",
      "5072/5072 [==============================] - 1219s 240ms/step - loss: 5.1670 - acc: 0.3847 - val_loss: 6.5551 - val_acc: 0.3802\n"
     ]
    }
   ],
   "source": [
    "X_train, X_test, y_train, y_test = train_test_bootstrapper(data_train, labels_train_encoded,\n",
    "                                                           bootstrapper_size=sample_size,\n",
    "                                                           class_imbalance=False, random_state=1)\n",
    "    \n",
    "X_train = resnet50_preprocess(X_train)\n",
    "X_test = resnet50_preprocess(X_test)\n",
    "y_train = to_categorical(y_train, num_classes=num_classes)\n",
    "y_test = to_categorical(y_test, num_classes=num_classes)\n",
    "    \n",
    "image_generator_samples = image_gen.flow(X_train, y_train, batch_size=batch_size, seed=1)\n",
    "    \n",
    "np.random.seed(1)\n",
    "set_random_seed(1)\n",
    "train_size, epochs = X_train.shape[0], 10\n",
    "hist = model.fit_generator(image_generator_samples, steps_per_epoch=2*train_size//epochs,\n",
    "                           validation_data=(X_test, y_test), epochs=epochs, shuffle=True,\n",
    "                           callbacks=[checkpoint, early_stop])\n",
    "\n",
    "model_resnet50.save_weights('models/weights_resnet50_1.hdf5')"
   ]
  },
  {
   "cell_type": "markdown",
   "metadata": {},
   "source": [
    "ResNet Model 2 (Random Seed = 2, assuming no class imbalance)"
   ]
  },
  {
   "cell_type": "code",
   "execution_count": 7,
   "metadata": {},
   "outputs": [],
   "source": [
    "filepath = 'models/weights-{epoch:02d}-{val_loss:.3f}.hdf5'\n",
    "checkpoint = ModelCheckpoint(filepath, monitor='val_loss', save_best_only=True, save_weights_only=True,\n",
    "                             mode='min')\n",
    "early_stop = EarlyStopping(patience=2, monitor='val_loss')\n",
    "\n",
    "model = getPretrainedModel(ResNet50(include_top=False, weights='imagenet', pooling='max'),\n",
    "                           num_classes=len(set(labels_train_encoded)),\n",
    "                           percent_layers_freeze=0.1)\n",
    "\n",
    "batch_size = 32\n",
    "image_gen = ImageDataGenerator(rotation_range=20,\n",
    "                               width_shift_range=.1,\n",
    "                               height_shift_range=.1,\n",
    "                               shear_range=0.5,\n",
    "                               zoom_range=(0.9, 1.1),\n",
    "                               fill_mode='constant',\n",
    "                               horizontal_flip=True)"
   ]
  },
  {
   "cell_type": "code",
   "execution_count": 8,
   "metadata": {},
   "outputs": [
    {
     "name": "stdout",
     "output_type": "stream",
     "text": [
      "Epoch 1/10\n",
      "5072/5072 [==============================] - 1224s 241ms/step - loss: 6.0719 - acc: 0.3831 - val_loss: 6.4888 - val_acc: 0.3830\n",
      "Epoch 2/10\n",
      "5072/5072 [==============================] - 1211s 239ms/step - loss: 5.3947 - acc: 0.3837 - val_loss: 6.4665 - val_acc: 0.3830\n",
      "Epoch 3/10\n",
      "5072/5072 [==============================] - 1220s 241ms/step - loss: 5.2035 - acc: 0.3831 - val_loss: 6.4416 - val_acc: 0.3838\n",
      "Epoch 4/10\n",
      "5072/5072 [==============================] - 1223s 241ms/step - loss: 5.1343 - acc: 0.3843 - val_loss: 6.4123 - val_acc: 0.3831\n",
      "Epoch 5/10\n",
      "5072/5072 [==============================] - 1215s 240ms/step - loss: 5.1077 - acc: 0.3841 - val_loss: 6.3856 - val_acc: 0.3836\n",
      "Epoch 6/10\n",
      "5072/5072 [==============================] - 1214s 239ms/step - loss: 5.1010 - acc: 0.3845 - val_loss: 6.4501 - val_acc: 0.3839\n",
      "Epoch 7/10\n",
      "5072/5072 [==============================] - 1214s 239ms/step - loss: 5.0899 - acc: 0.3849 - val_loss: 6.7038 - val_acc: 0.3760\n"
     ]
    }
   ],
   "source": [
    "X_train, X_test, y_train, y_test = train_test_bootstrapper(data_train, labels_train_encoded,\n",
    "                                                           bootstrapper_size=sample_size,\n",
    "                                                           class_imbalance=False, random_state=2)\n",
    "    \n",
    "X_train = resnet50_preprocess(X_train)\n",
    "X_test = resnet50_preprocess(X_test)\n",
    "y_train = to_categorical(y_train, num_classes=num_classes)\n",
    "y_test = to_categorical(y_test, num_classes=num_classes)\n",
    "    \n",
    "image_generator_samples = image_gen.flow(X_train, y_train, batch_size=batch_size, seed=2)\n",
    "    \n",
    "np.random.seed(2)\n",
    "set_random_seed(2)\n",
    "train_size, epochs = X_train.shape[0], 10\n",
    "hist = model.fit_generator(image_generator_samples, steps_per_epoch=2*train_size//epochs,\n",
    "                           validation_data=(X_test, y_test), epochs=epochs, shuffle=True,\n",
    "                           callbacks=[checkpoint, early_stop])\n",
    "\n",
    "model_resnet50.save_weights('models/weights_resnet50_2.hdf5')"
   ]
  },
  {
   "cell_type": "markdown",
   "metadata": {},
   "source": [
    "ResNet Model 3 (Random Seed = 1, considering class imbalance)"
   ]
  },
  {
   "cell_type": "code",
   "execution_count": 9,
   "metadata": {},
   "outputs": [],
   "source": [
    "filepath = 'models/weights-{epoch:02d}-{val_loss:.3f}.hdf5'\n",
    "checkpoint = ModelCheckpoint(filepath, monitor='val_loss', save_best_only=True, save_weights_only=True,\n",
    "                             mode='min')\n",
    "early_stop = EarlyStopping(patience=2, monitor='val_loss')\n",
    "\n",
    "model = getPretrainedModel(ResNet50(include_top=False, weights='imagenet', pooling='max'),\n",
    "                           num_classes=len(set(labels_train_encoded)),\n",
    "                           percent_layers_freeze=0.1)\n",
    "\n",
    "batch_size = 32\n",
    "image_gen = ImageDataGenerator(rotation_range=20,\n",
    "                               width_shift_range=.1,\n",
    "                               height_shift_range=.1,\n",
    "                               shear_range=0.5,\n",
    "                               zoom_range=(0.9, 1.1),\n",
    "                               fill_mode='constant',\n",
    "                               horizontal_flip=True)"
   ]
  },
  {
   "cell_type": "code",
   "execution_count": 10,
   "metadata": {},
   "outputs": [
    {
     "name": "stdout",
     "output_type": "stream",
     "text": [
      "Epoch 1/10\n",
      "5072/5072 [==============================] - 1236s 244ms/step - loss: 7.3512 - acc: 0.1885 - val_loss: 5.6464 - val_acc: 0.5752\n",
      "Epoch 2/10\n",
      "5072/5072 [==============================] - 1223s 241ms/step - loss: 6.7859 - acc: 0.1891 - val_loss: 4.7750 - val_acc: 0.5752\n",
      "Epoch 3/10\n",
      "5072/5072 [==============================] - 1216s 240ms/step - loss: 6.6516 - acc: 0.1894 - val_loss: 4.7412 - val_acc: 0.5750\n",
      "Epoch 4/10\n",
      "5072/5072 [==============================] - 1214s 239ms/step - loss: 6.5902 - acc: 0.1908 - val_loss: 4.6863 - val_acc: 0.5761\n",
      "Epoch 5/10\n",
      "5072/5072 [==============================] - 1216s 240ms/step - loss: 6.5636 - acc: 0.1903 - val_loss: 4.8199 - val_acc: 0.5752\n",
      "Epoch 6/10\n",
      "5072/5072 [==============================] - 1219s 240ms/step - loss: 6.5562 - acc: 0.1903 - val_loss: 4.7702 - val_acc: 0.5741\n"
     ]
    }
   ],
   "source": [
    "X_train, X_test, y_train, y_test = train_test_bootstrapper(data_train, labels_train_encoded,\n",
    "                                                           bootstrapper_size=sample_size,\n",
    "                                                           class_imbalance=True, random_state=1)\n",
    "    \n",
    "X_train = resnet50_preprocess(X_train)\n",
    "X_test = resnet50_preprocess(X_test)\n",
    "y_train = to_categorical(y_train, num_classes=num_classes)\n",
    "y_test = to_categorical(y_test, num_classes=num_classes)\n",
    "    \n",
    "image_generator_samples = image_gen.flow(X_train, y_train, batch_size=batch_size, seed=1)\n",
    "    \n",
    "np.random.seed(1)\n",
    "set_random_seed(1)\n",
    "train_size, epochs = X_train.shape[0], 10\n",
    "hist = model.fit_generator(image_generator_samples, steps_per_epoch=2*train_size//epochs,\n",
    "                           validation_data=(X_test, y_test), epochs=epochs, shuffle=True,\n",
    "                           callbacks=[checkpoint, early_stop])\n",
    "\n",
    "model_resnet50.save_weights('models/weights_resnet50_3.hdf5')"
   ]
  },
  {
   "cell_type": "markdown",
   "metadata": {},
   "source": [
    "ResNet Model 4 (Random Seed = 2, considering class imbalance)"
   ]
  },
  {
   "cell_type": "code",
   "execution_count": 11,
   "metadata": {},
   "outputs": [],
   "source": [
    "filepath = 'models/weights-{epoch:02d}-{val_loss:.3f}.hdf5'\n",
    "checkpoint = ModelCheckpoint(filepath, monitor='val_loss', save_best_only=True, save_weights_only=True,\n",
    "                             mode='min')\n",
    "early_stop = EarlyStopping(patience=2, monitor='val_loss')\n",
    "\n",
    "model = getPretrainedModel(ResNet50(include_top=False, weights='imagenet', pooling='max'),\n",
    "                           num_classes=len(set(labels_train_encoded)),\n",
    "                           percent_layers_freeze=0.1)\n",
    "\n",
    "batch_size = 32\n",
    "image_gen = ImageDataGenerator(rotation_range=20,\n",
    "                               width_shift_range=.1,\n",
    "                               height_shift_range=.1,\n",
    "                               shear_range=0.5,\n",
    "                               zoom_range=(0.9, 1.1),\n",
    "                               fill_mode='constant',\n",
    "                               horizontal_flip=True)"
   ]
  },
  {
   "cell_type": "code",
   "execution_count": 12,
   "metadata": {},
   "outputs": [
    {
     "name": "stdout",
     "output_type": "stream",
     "text": [
      "Epoch 1/10\n",
      "5072/5072 [==============================] - 1273s 251ms/step - loss: 7.3792 - acc: 0.1882 - val_loss: 5.5530 - val_acc: 0.5702\n",
      "Epoch 2/10\n",
      "5072/5072 [==============================] - 1234s 243ms/step - loss: 6.8389 - acc: 0.1891 - val_loss: 4.7747 - val_acc: 0.5703\n",
      "Epoch 3/10\n",
      "5072/5072 [==============================] - 1232s 243ms/step - loss: 6.6705 - acc: 0.1893 - val_loss: 5.0889 - val_acc: 0.5600\n",
      "Epoch 4/10\n",
      "5072/5072 [==============================] - 1230s 243ms/step - loss: 6.6142 - acc: 0.1894 - val_loss: 4.8610 - val_acc: 0.5652\n"
     ]
    }
   ],
   "source": [
    "X_train, X_test, y_train, y_test = train_test_bootstrapper(data_train, labels_train_encoded,\n",
    "                                                           bootstrapper_size=sample_size,\n",
    "                                                           class_imbalance=True, random_state=2)\n",
    "    \n",
    "X_train = resnet50_preprocess(X_train)\n",
    "X_test = resnet50_preprocess(X_test)\n",
    "y_train = to_categorical(y_train, num_classes=num_classes)\n",
    "y_test = to_categorical(y_test, num_classes=num_classes)\n",
    "    \n",
    "image_generator_samples = image_gen.flow(X_train, y_train, batch_size=batch_size, seed=2)\n",
    "    \n",
    "np.random.seed(2)\n",
    "set_random_seed(2)\n",
    "train_size, epochs = X_train.shape[0], 10\n",
    "hist = model.fit_generator(image_generator_samples, steps_per_epoch=2*train_size//epochs,\n",
    "                           validation_data=(X_test, y_test), epochs=epochs, shuffle=True,\n",
    "                           callbacks=[checkpoint, early_stop])\n",
    "\n",
    "model_resnet50.save_weights('models/weights_resnet50_4.hdf5')"
   ]
  },
  {
   "cell_type": "code",
   "execution_count": null,
   "metadata": {},
   "outputs": [],
   "source": []
  }
 ],
 "metadata": {
  "kernelspec": {
   "display_name": "Python 3",
   "language": "python",
   "name": "python3"
  },
  "language_info": {
   "codemirror_mode": {
    "name": "ipython",
    "version": 3
   },
   "file_extension": ".py",
   "mimetype": "text/x-python",
   "name": "python",
   "nbconvert_exporter": "python",
   "pygments_lexer": "ipython3",
   "version": "3.6.7"
  }
 },
 "nbformat": 4,
 "nbformat_minor": 2
}
