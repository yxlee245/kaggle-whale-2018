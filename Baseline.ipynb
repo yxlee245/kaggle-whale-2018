{
 "cells": [
  {
   "cell_type": "markdown",
   "metadata": {},
   "source": [
    "# Baseline\n",
    "Using pre-trained ResNet50"
   ]
  },
  {
   "cell_type": "markdown",
   "metadata": {},
   "source": [
    "## Initial Setup"
   ]
  },
  {
   "cell_type": "markdown",
   "metadata": {},
   "source": [
    "Auto update from code base"
   ]
  },
  {
   "cell_type": "code",
   "execution_count": 1,
   "metadata": {},
   "outputs": [],
   "source": [
    "%load_ext autoreload\n",
    "%autoreload 2"
   ]
  },
  {
   "cell_type": "markdown",
   "metadata": {},
   "source": [
    "Import libraries"
   ]
  },
  {
   "cell_type": "code",
   "execution_count": 2,
   "metadata": {},
   "outputs": [
    {
     "name": "stderr",
     "output_type": "stream",
     "text": [
      "Using TensorFlow backend.\n"
     ]
    }
   ],
   "source": [
    "import numpy as np\n",
    "import pandas as pd\n",
    "from matplotlib import pyplot as plt\n",
    "\n",
    "import cv2, os, pickle\n",
    "from IPython.display import display\n",
    "from PIL import Image\n",
    "from tensorflow import set_random_seed\n",
    "from keras.preprocessing.image import ImageDataGenerator\n",
    "from keras.callbacks import ModelCheckpoint, ReduceLROnPlateau\n",
    "from keras.optimizers import Adam\n",
    "from keras.applications.resnet50 import ResNet50\n",
    "\n",
    "from src.model_api import getPretrainedModelV2\n",
    "from src.generator import DataGenerator\n",
    "from src.preprocessing import image_load_resize\n",
    "from src.prediction import array_filter, array_to_string"
   ]
  },
  {
   "cell_type": "markdown",
   "metadata": {},
   "source": [
    "## Exploring the data"
   ]
  },
  {
   "cell_type": "code",
   "execution_count": 3,
   "metadata": {},
   "outputs": [
    {
     "data": {
      "text/html": [
       "<div>\n",
       "<style scoped>\n",
       "    .dataframe tbody tr th:only-of-type {\n",
       "        vertical-align: middle;\n",
       "    }\n",
       "\n",
       "    .dataframe tbody tr th {\n",
       "        vertical-align: top;\n",
       "    }\n",
       "\n",
       "    .dataframe thead th {\n",
       "        text-align: right;\n",
       "    }\n",
       "</style>\n",
       "<table border=\"1\" class=\"dataframe\">\n",
       "  <thead>\n",
       "    <tr style=\"text-align: right;\">\n",
       "      <th></th>\n",
       "      <th>Image</th>\n",
       "      <th>Id</th>\n",
       "    </tr>\n",
       "  </thead>\n",
       "  <tbody>\n",
       "    <tr>\n",
       "      <th>0</th>\n",
       "      <td>0000e88ab.jpg</td>\n",
       "      <td>w_f48451c</td>\n",
       "    </tr>\n",
       "    <tr>\n",
       "      <th>1</th>\n",
       "      <td>0001f9222.jpg</td>\n",
       "      <td>w_c3d896a</td>\n",
       "    </tr>\n",
       "    <tr>\n",
       "      <th>2</th>\n",
       "      <td>00029d126.jpg</td>\n",
       "      <td>w_20df2c5</td>\n",
       "    </tr>\n",
       "    <tr>\n",
       "      <th>3</th>\n",
       "      <td>00050a15a.jpg</td>\n",
       "      <td>new_whale</td>\n",
       "    </tr>\n",
       "    <tr>\n",
       "      <th>4</th>\n",
       "      <td>0005c1ef8.jpg</td>\n",
       "      <td>new_whale</td>\n",
       "    </tr>\n",
       "  </tbody>\n",
       "</table>\n",
       "</div>"
      ],
      "text/plain": [
       "           Image         Id\n",
       "0  0000e88ab.jpg  w_f48451c\n",
       "1  0001f9222.jpg  w_c3d896a\n",
       "2  00029d126.jpg  w_20df2c5\n",
       "3  00050a15a.jpg  new_whale\n",
       "4  0005c1ef8.jpg  new_whale"
      ]
     },
     "execution_count": 3,
     "metadata": {},
     "output_type": "execute_result"
    }
   ],
   "source": [
    "df = pd.read_csv('data/raw/train.csv')\n",
    "df.head()"
   ]
  },
  {
   "cell_type": "code",
   "execution_count": 4,
   "metadata": {},
   "outputs": [
    {
     "data": {
      "text/plain": [
       "new_whale    9664\n",
       "w_23a388d      73\n",
       "w_9b5109b      65\n",
       "w_9c506f6      62\n",
       "w_0369a5c      61\n",
       "Name: Id, dtype: int64"
      ]
     },
     "execution_count": 4,
     "metadata": {},
     "output_type": "execute_result"
    }
   ],
   "source": [
    "df.Id.value_counts().head()"
   ]
  },
  {
   "cell_type": "code",
   "execution_count": 5,
   "metadata": {},
   "outputs": [
    {
     "name": "stdout",
     "output_type": "stream",
     "text": [
      "Percentage of whales tagged as new_whale: 38.11%\n"
     ]
    }
   ],
   "source": [
    "print('Percentage of whales tagged as new_whale: {:.2f}%'.format((df.Id == 'new_whale').mean() * 100))"
   ]
  },
  {
   "cell_type": "code",
   "execution_count": 6,
   "metadata": {},
   "outputs": [
    {
     "name": "stdout",
     "output_type": "stream",
     "text": [
      "Percentages of whales with only one image associated with them: 41.42%\n"
     ]
    }
   ],
   "source": [
    "print('Percentages of whales with only one image associated with them: {:.2f}%'\n",
    "      .format((df.Id.value_counts() == 1).mean() * 100))"
   ]
  },
  {
   "cell_type": "code",
   "execution_count": 7,
   "metadata": {},
   "outputs": [
    {
     "name": "stdout",
     "output_type": "stream",
     "text": [
      "Number of unique labels: 5005\n"
     ]
    }
   ],
   "source": [
    "print('Number of unique labels:', df.Id.nunique())"
   ]
  },
  {
   "cell_type": "code",
   "execution_count": 5,
   "metadata": {},
   "outputs": [
    {
     "data": {
      "text/plain": [
       "(25361, 2)"
      ]
     },
     "execution_count": 5,
     "metadata": {},
     "output_type": "execute_result"
    }
   ],
   "source": [
    "df.shape"
   ]
  },
  {
   "cell_type": "code",
   "execution_count": 5,
   "metadata": {},
   "outputs": [
    {
     "data": {
      "text/plain": [
       "5005"
      ]
     },
     "execution_count": 5,
     "metadata": {},
     "output_type": "execute_result"
    }
   ],
   "source": [
    "classes_list = list(set(df.Id))\n",
    "len(classes_list)"
   ]
  },
  {
   "cell_type": "markdown",
   "metadata": {},
   "source": [
    "## Train Baseline Model"
   ]
  },
  {
   "cell_type": "markdown",
   "metadata": {},
   "source": [
    "Create ImageDataGenerator instance for data augmentation"
   ]
  },
  {
   "cell_type": "code",
   "execution_count": 6,
   "metadata": {},
   "outputs": [
    {
     "name": "stdout",
     "output_type": "stream",
     "text": [
      "Found 22825 images belonging to 5005 classes.\n",
      "Found 2536 images belonging to 5005 classes.\n"
     ]
    }
   ],
   "source": [
    "BATCH_SIZE = 64\n",
    "TARGET_SIZE = (224, 224)\n",
    "SEED = 2019\n",
    "NUM_CLASSES = len(classes_list)\n",
    "\n",
    "train_generator = ImageDataGenerator(rescale=1/255.,\n",
    "                                     rotation_range=20,\n",
    "                                     width_shift_range=0.1,\n",
    "                                     height_shift_range=0.1,\n",
    "                                     shear_range=0.5,\n",
    "                                     zoom_range=(0.9, 1.1),\n",
    "                                     horizontal_flip=True,\n",
    "                                     vertical_flip=False,\n",
    "                                     fill_mode='constant',\n",
    "                                     cval=0,\n",
    "                                     validation_split=0.1)\n",
    "\n",
    "train_image_generator = train_generator.flow_from_dataframe(dataframe=df, directory='data/derived/preprocessed_train', \n",
    "                                                            x_col='Image', y_col='Id', has_ext=True,\n",
    "                                                            classes=classes_list, \n",
    "                                                            target_size=TARGET_SIZE, interpolation='nearest',\n",
    "                                                            batch_size=BATCH_SIZE, seed=SEED, subset='training')\n",
    "val_image_generator = train_generator.flow_from_dataframe(dataframe=df, directory='data/derived/preprocessed_train', \n",
    "                                                          x_col='Image', y_col='Id', has_ext=True,\n",
    "                                                          classes=classes_list,\n",
    "                                                          target_size=TARGET_SIZE, interpolation='nearest',\n",
    "                                                          batch_size=BATCH_SIZE, seed=SEED, subset='validation')\n",
    "\n",
    "INPUT_SHAPE = (224, 224, 3)\n",
    "STEPS_PER_EPOCH = train_image_generator.n // BATCH_SIZE\n",
    "VALIDATION_STEPS = val_image_generator.n // BATCH_SIZE"
   ]
  },
  {
   "cell_type": "markdown",
   "metadata": {},
   "source": [
    "Build model"
   ]
  },
  {
   "cell_type": "code",
   "execution_count": 10,
   "metadata": {},
   "outputs": [],
   "source": [
    "model = getPretrainedModelV2(ResNet50(include_top=False, weights='imagenet', input_shape=INPUT_SHAPE,\n",
    "                                      pooling='max'),\n",
    "                             num_classes=NUM_CLASSES, num_layers_unfreeze=0, optimizer='adam',\n",
    "                             fc_size=100, dropout_rate=0.3)"
   ]
  },
  {
   "cell_type": "markdown",
   "metadata": {},
   "source": [
    "Train model for 2 epochs"
   ]
  },
  {
   "cell_type": "code",
   "execution_count": 11,
   "metadata": {},
   "outputs": [
    {
     "name": "stdout",
     "output_type": "stream",
     "text": [
      "Epoch 1/2\n",
      "90/90 [==============================] - 97s 1s/step - loss: 6.4355 - acc: 0.3748 - val_loss: 7.7358 - val_acc: 0.3906\n",
      "Epoch 2/2\n",
      "90/90 [==============================] - 67s 744ms/step - loss: 6.3215 - acc: 0.3830 - val_loss: 7.8271 - val_acc: 0.3922\n"
     ]
    },
    {
     "data": {
      "text/plain": [
       "<keras.callbacks.History at 0x7f892764c780>"
      ]
     },
     "execution_count": 11,
     "metadata": {},
     "output_type": "execute_result"
    }
   ],
   "source": [
    "set_random_seed(SEED)\n",
    "np.random.seed(SEED)\n",
    "model.fit_generator(train_image_generator, steps_per_epoch=90, epochs=2,\n",
    "                    validation_data=val_image_generator, validation_steps=10, workers=12)"
   ]
  },
  {
   "cell_type": "markdown",
   "metadata": {},
   "source": [
    "Train with different combinations of Adam optimizers to determine learning rate"
   ]
  },
  {
   "cell_type": "code",
   "execution_count": 13,
   "metadata": {},
   "outputs": [],
   "source": [
    "learning_rate_list = [1e-5, 5e-5, 1e-4, 5e-4, 1e-3, 5e-3, 1e-2, 5e-2, 1e-1]\n",
    "train_loss_list = []\n",
    "val_loss_list = []\n",
    "for learning_rate in learning_rate_list:\n",
    "    model = getPretrainedModelV2(ResNet50(include_top=False, weights='imagenet', input_shape=INPUT_SHAPE,\n",
    "                                      pooling='max'),\n",
    "                             num_classes=NUM_CLASSES, num_layers_unfreeze=0, optimizer=Adam(learning_rate))\n",
    "    set_random_seed(SEED)\n",
    "    np.random.seed(SEED)\n",
    "    hist = model.fit_generator(train_image_generator, steps_per_epoch=90, epochs=2,\n",
    "                               validation_data=val_image_generator, validation_steps=10, workers=12, verbose=0)\n",
    "    train_loss_list.append(hist.history['loss'][-1])\n",
    "    val_loss_list.append(hist.history['val_loss'][-1])"
   ]
  },
  {
   "cell_type": "code",
   "execution_count": 14,
   "metadata": {},
   "outputs": [
    {
     "data": {
      "image/png": "[encoded data removed]",
      "text/plain": [
       "<Figure size 576x432 with 1 Axes>"
      ]
     },
     "metadata": {
      "needs_background": "light"
     },
     "output_type": "display_data"
    }
   ],
   "source": [
    "plt.figure(figsize=(8, 6))\n",
    "plt.plot(learning_rate_list, train_loss_list, label='Training Loss')\n",
    "plt.plot(learning_rate_list, val_loss_list, label='Validation Loss')\n",
    "plt.xscale('log')\n",
    "plt.legend(loc='best')\n",
    "plt.title('Loss Curves for Various Learning Rates with 2 Epochs')\n",
    "plt.savefig('loss_curves_learning_rate.png')"
   ]
  },
  {
   "cell_type": "markdown",
   "metadata": {},
   "source": [
    "Train model for submission"
   ]
  },
  {
   "cell_type": "code",
   "execution_count": 5,
   "metadata": {},
   "outputs": [
    {
     "name": "stdout",
     "output_type": "stream",
     "text": [
      "Found 25361 images belonging to 5005 classes.\n"
     ]
    }
   ],
   "source": [
    "NUM_CLASSES = len(classes_list)\n",
    "TARGET_SIZE = (224, 224)\n",
    "INPUT_SHAPE = (224, 224, 3)\n",
    "BATCH_SIZE = 64\n",
    "SEED = 2019\n",
    "STEPS_PER_EPOCH = len(df) // BATCH_SIZE\n",
    "BEST_LR = 5e-3\n",
    "\n",
    "train_generator = ImageDataGenerator(rescale=1/255.,\n",
    "                                     fill_mode='constant',\n",
    "                                     cval=0,\n",
    "                                     validation_split=0.1)\n",
    "\n",
    "train_image_generator = train_generator.flow_from_dataframe(dataframe=df, directory='data/derived/preprocessed_train', \n",
    "                                                            x_col='Image', y_col='Id', has_ext=True, classes=classes_list,\n",
    "                                                            target_size=TARGET_SIZE, interpolation='nearest',\n",
    "                                                            batch_size=BATCH_SIZE, seed=SEED)\n",
    "\n",
    "filepath = 'models/weights-baseline-{epoch:03d}.hdf5'\n",
    "checkpoint = ModelCheckpoint(filepath, monitor='loss', save_best_only=False, save_weights_only=True,\n",
    "                             mode='min')\n",
    "reduceLR = ReduceLROnPlateau(monitor='loss', patience=3, min_delta=0.1, factor=0.25, min_lr=1e-5, verbose=1)\n",
    "\n",
    "model = getPretrainedModelV2(ResNet50(include_top=False, weights='imagenet', input_shape=INPUT_SHAPE, pooling='max'),\n",
    "                             num_classes=NUM_CLASSES, num_layers_unfreeze=0, optimizer=Adam(BEST_LR, decay=0.01))"
   ]
  },
  {
   "cell_type": "code",
   "execution_count": 6,
   "metadata": {},
   "outputs": [
    {
     "name": "stdout",
     "output_type": "stream",
     "text": [
      "\n",
      "Epoch 00007: ReduceLROnPlateau reducing learning rate to 0.0012499999720603228.\n",
      "\n",
      "Epoch 00010: ReduceLROnPlateau reducing learning rate to 0.0003124999930150807.\n",
      "\n",
      "Epoch 00013: ReduceLROnPlateau reducing learning rate to 7.812499825377017e-05.\n",
      "\n",
      "Epoch 00016: ReduceLROnPlateau reducing learning rate to 1.9531249563442543e-05.\n",
      "\n",
      "Epoch 00019: ReduceLROnPlateau reducing learning rate to 1e-05.\n"
     ]
    }
   ],
   "source": [
    "set_random_seed(SEED)\n",
    "np.random.seed(SEED)\n",
    "NUM_EPOCHS = 30\n",
    "hist = model.fit_generator(train_image_generator, steps_per_epoch=STEPS_PER_EPOCH, epochs=NUM_EPOCHS,\n",
    "                           workers=12, verbose=0, callbacks=[checkpoint, reduceLR])"
   ]
  },
  {
   "cell_type": "code",
   "execution_count": 7,
   "metadata": {},
   "outputs": [
    {
     "data": {
      "text/plain": [
       "30"
      ]
     },
     "execution_count": 7,
     "metadata": {},
     "output_type": "execute_result"
    }
   ],
   "source": [
    "len(hist.history['loss'])"
   ]
  },
  {
   "cell_type": "code",
   "execution_count": 8,
   "metadata": {},
   "outputs": [
    {
     "data": {
      "image/png": "[encoded data removed]",
      "text/plain": [
       "<Figure size 432x288 with 1 Axes>"
      ]
     },
     "metadata": {
      "needs_background": "light"
     },
     "output_type": "display_data"
    }
   ],
   "source": [
    "plt.plot(list(range(1, NUM_EPOCHS + 1)), hist.history['loss'])\n",
    "plt.xlabel('Epoch number')\n",
    "plt.ylabel('Training Loss')\n",
    "plt.xticks(range(0, NUM_EPOCHS + 1, 2));"
   ]
  },
  {
   "cell_type": "markdown",
   "metadata": {},
   "source": [
    "Model prediction"
   ]
  },
  {
   "cell_type": "code",
   "execution_count": 9,
   "metadata": {},
   "outputs": [
    {
     "name": "stdout",
     "output_type": "stream",
     "text": [
      "Total no of observations in sequence: 7960\n"
     ]
    },
    {
     "name": "stderr",
     "output_type": "stream",
     "text": [
      "/home/yxlee245/anaconda3/envs/whale_env/lib/python3.6/site-packages/skimage/transform/_warps.py:105: UserWarning: The default mode, 'constant', will be changed to 'reflect' in skimage 0.15.\n",
      "  warn(\"The default mode, 'constant', will be changed to 'reflect' in \"\n",
      "/home/yxlee245/anaconda3/envs/whale_env/lib/python3.6/site-packages/skimage/transform/_warps.py:110: UserWarning: Anti-aliasing will be enabled by default in skimage 0.15 to avoid aliasing artifacts when down-sampling images.\n",
      "  warn(\"Anti-aliasing will be enabled by default in skimage 0.15 to \"\n"
     ]
    },
    {
     "data": {
      "text/plain": [
       "(7960, 5005)"
      ]
     },
     "execution_count": 9,
     "metadata": {},
     "output_type": "execute_result"
    }
   ],
   "source": [
    "with open('data/derived/test_file_names.pickle', 'rb') as file:\n",
    "    filenames_test = pickle.load(file)\n",
    "df_test = pd.DataFrame({'Image': filenames_test})\n",
    "test_generator = DataGenerator(dataframe=df_test, x_col='Image', y_col=None, batch_size=BATCH_SIZE,\n",
    "                               target_size=TARGET_SIZE, directory='data/derived/preprocessed_test',\n",
    "                               preprocess_for='resnet50')\n",
    "\n",
    "model.load_weights('models/weights-baseline-008.hdf5')\n",
    "\n",
    "# Save final weights if it doesn't exist\n",
    "weights_path = 'models/weights-baseline-final.hdf5'\n",
    "if os.path.exists(weights_path):\n",
    "    print('Path {} exists'.format(weights_path))\n",
    "else:\n",
    "    model.save_weights(weights_path)\n",
    "\n",
    "preds = model.predict_generator(test_generator)\n",
    "preds.shape"
   ]
  },
  {
   "cell_type": "markdown",
   "metadata": {},
   "source": [
    "Obtain labels with top 5 softmax values for each array row and concatenate labels"
   ]
  },
  {
   "cell_type": "code",
   "execution_count": 10,
   "metadata": {},
   "outputs": [],
   "source": [
    "labels = np.array(classes_list)\n",
    "top5_indices = np.apply_along_axis(array_filter, arr=preds, axis=1, n_top=5,\n",
    "                                   labels=labels)\n",
    "predictions_array = np.apply_along_axis(array_to_string, arr=top5_indices, axis=1)"
   ]
  },
  {
   "cell_type": "markdown",
   "metadata": {},
   "source": [
    "Create submission DataFrame and export as CSV file"
   ]
  },
  {
   "cell_type": "code",
   "execution_count": 11,
   "metadata": {},
   "outputs": [
    {
     "name": "stdout",
     "output_type": "stream",
     "text": [
      "           Image                                                 Id\n",
      "0  660352b03.jpg  new_whale w_9b5109b w_23a388d w_700ebb4 w_3de579a\n",
      "1  bec66f23c.jpg  new_whale w_9b5109b w_700ebb4 w_23a388d w_3de579a\n",
      "2  fb8c2c146.jpg  new_whale w_9b5109b w_23a388d w_700ebb4 w_3de579a\n",
      "3  0ff9cd790.jpg  new_whale w_9b5109b w_23a388d w_700ebb4 w_3de579a\n",
      "4  861e6c332.jpg  new_whale w_9b5109b w_700ebb4 w_23a388d w_3de579a\n",
      "5  736a568a4.jpg  new_whale w_9b5109b w_700ebb4 w_23a388d w_3de579a\n",
      "6  4188acc6e.jpg  new_whale w_9b5109b w_23a388d w_700ebb4 w_3de579a\n",
      "7  101351ac6.jpg  new_whale w_9b5109b w_23a388d w_700ebb4 w_3de579a\n",
      "8  de4828574.jpg  new_whale w_9b5109b w_23a388d w_700ebb4 w_3de579a\n",
      "9  2c4d75bc2.jpg  new_whale w_9b5109b w_700ebb4 w_23a388d w_3de579a\n"
     ]
    }
   ],
   "source": [
    "submission_df = pd.DataFrame({'Image': df_test.Image, 'Id': predictions_array})\n",
    "submission_df.to_csv('data/submissions/submission_001.csv', index=False)\n",
    "print(submission_df.head(10))"
   ]
  },
  {
   "cell_type": "markdown",
   "metadata": {},
   "source": [
    "Kaggle score: 0.277"
   ]
  },
  {
   "cell_type": "code",
   "execution_count": null,
   "metadata": {},
   "outputs": [],
   "source": []
  }
 ],
 "metadata": {
  "kernelspec": {
   "display_name": "Python 3",
   "language": "python",
   "name": "python3"
  },
  "language_info": {
   "codemirror_mode": {
    "name": "ipython",
    "version": 3
   },
   "file_extension": ".py",
   "mimetype": "text/x-python",
   "name": "python",
   "nbconvert_exporter": "python",
   "pygments_lexer": "ipython3",
   "version": "3.6.8"
  }
 },
 "nbformat": 4,
 "nbformat_minor": 2
}
