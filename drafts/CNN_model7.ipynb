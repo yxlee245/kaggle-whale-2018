{
 "cells": [
  {
   "cell_type": "markdown",
   "metadata": {},
   "source": [
    "# Simple CNN Model (Model 7)"
   ]
  },
  {
   "cell_type": "markdown",
   "metadata": {},
   "source": [
    "Model 7, class imbalance accounted for, similar to Model 3 except for one additional FC layer and dropout layer"
   ]
  },
  {
   "cell_type": "markdown",
   "metadata": {},
   "source": [
    "## Imports"
   ]
  },
  {
   "cell_type": "markdown",
   "metadata": {},
   "source": [
    "Import libraries"
   ]
  },
  {
   "cell_type": "code",
   "execution_count": 1,
   "metadata": {},
   "outputs": [],
   "source": [
    "%load_ext autoreload\n",
    "%autoreload 2"
   ]
  },
  {
   "cell_type": "code",
   "execution_count": 2,
   "metadata": {},
   "outputs": [
    {
     "name": "stderr",
     "output_type": "stream",
     "text": [
      "Using TensorFlow backend.\n"
     ]
    }
   ],
   "source": [
    "import numpy as np\n",
    "import pandas as pd\n",
    "from matplotlib import pyplot as plt\n",
    "\n",
    "import pickle, os\n",
    "from sklearn.preprocessing import LabelEncoder\n",
    "import tensorflow as tf\n",
    "from tensorflow import set_random_seed\n",
    "import keras\n",
    "from keras.utils.np_utils import to_categorical\n",
    "from keras.callbacks import ModelCheckpoint\n",
    "\n",
    "from src.sampler import sample_weighter\n",
    "from src.model_api import getSimpleModelV7\n",
    "from src.prediction import array_filter, array_to_string\n",
    "from src.custom_metric import as_keras_metric"
   ]
  },
  {
   "cell_type": "markdown",
   "metadata": {},
   "source": [
    "Import data"
   ]
  },
  {
   "cell_type": "code",
   "execution_count": 3,
   "metadata": {},
   "outputs": [
    {
     "name": "stdout",
     "output_type": "stream",
     "text": [
      "Shape of data_train: (25361, 100, 100, 3)\n",
      "Length of labels_train: 25361\n"
     ]
    }
   ],
   "source": [
    "with open('data/derived/data_train.pickle', 'rb') as file:\n",
    "    data_train = pickle.load(file)\n",
    "with open('data/derived/labels_train.pickle', 'rb') as file:\n",
    "    labels_train = pickle.load(file)\n",
    "print('Shape of data_train:', data_train.shape)\n",
    "print('Length of labels_train:', len(labels_train))"
   ]
  },
  {
   "cell_type": "code",
   "execution_count": 4,
   "metadata": {},
   "outputs": [
    {
     "name": "stdout",
     "output_type": "stream",
     "text": [
      "Shape of data_test: (7960, 100, 100, 3)\n",
      "Length of filename_test: 7960\n"
     ]
    }
   ],
   "source": [
    "with open('data/derived/data_test.pickle', 'rb') as file:\n",
    "    data_test = pickle.load(file)\n",
    "with open('data/derived/test_file_names.pickle', 'rb') as file:\n",
    "    filenames_test = pickle.load(file)\n",
    "print('Shape of data_test:', data_test.shape)\n",
    "print('Length of filename_test:', len(filenames_test))"
   ]
  },
  {
   "cell_type": "markdown",
   "metadata": {},
   "source": [
    "Convert labels to integers for model training"
   ]
  },
  {
   "cell_type": "code",
   "execution_count": 5,
   "metadata": {},
   "outputs": [
    {
     "name": "stdout",
     "output_type": "stream",
     "text": [
      "Original labels: ['new_whale', 'new_whale', 'w_75d0e61', 'w_396c12b', 'w_d8de44c']\n",
      "Encoded labels: [   0    0 2308 1134 4209]\n",
      "Label encoder classes: ['new_whale' 'w_0003639' 'w_0003c59' 'w_0027efa' 'w_00289b1']\n"
     ]
    }
   ],
   "source": [
    "label_encoder = LabelEncoder()\n",
    "labels_train_encoded = label_encoder.fit_transform(labels_train)\n",
    "print('Original labels: {}'.format(labels_train[:5]))\n",
    "print('Encoded labels: {}'.format(labels_train_encoded[:5]))\n",
    "print('Label encoder classes: {}'.format(label_encoder.classes_[:5]))"
   ]
  },
  {
   "cell_type": "markdown",
   "metadata": {},
   "source": [
    "Compute sample size and number of classes"
   ]
  },
  {
   "cell_type": "code",
   "execution_count": 6,
   "metadata": {},
   "outputs": [
    {
     "name": "stdout",
     "output_type": "stream",
     "text": [
      "Sample size: 25361\n",
      "Number of clases: 5005\n"
     ]
    }
   ],
   "source": [
    "sample_size = len(labels_train_encoded)\n",
    "num_classes = len(set(labels_train_encoded))\n",
    "print('Sample size:', sample_size)\n",
    "print('Number of clases:', num_classes)"
   ]
  },
  {
   "cell_type": "markdown",
   "metadata": {},
   "source": [
    "## Train Single CNN Model"
   ]
  },
  {
   "cell_type": "markdown",
   "metadata": {},
   "source": [
    "Simple CNN model (Random Seed = 2019, assuming class imbalance)"
   ]
  },
  {
   "cell_type": "code",
   "execution_count": 7,
   "metadata": {},
   "outputs": [
    {
     "name": "stdout",
     "output_type": "stream",
     "text": [
      "Shape of X_train: (25361, 100, 100, 3)\n",
      "Shape of y_train: (25361, 5005)\n"
     ]
    }
   ],
   "source": [
    "X_train = (data_train / 255).astype(np.float32)\n",
    "y_train = to_categorical(labels_train_encoded, num_classes=num_classes)\n",
    "\n",
    "print('Shape of X_train:', X_train.shape)\n",
    "print('Shape of y_train:', y_train.shape)"
   ]
  },
  {
   "cell_type": "code",
   "execution_count": 8,
   "metadata": {},
   "outputs": [],
   "source": [
    "filepath = 'models/weights-model7-{epoch:03d}.hdf5'\n",
    "checkpoint = ModelCheckpoint(filepath, monitor='loss', save_best_only=False, save_weights_only=True,\n",
    "                             mode='min')\n",
    "\n",
    "# Create precision and recall metrics\n",
    "# Note: top_k_categorical_accuracy function in keras.metrics has default k value of 5\n",
    "top_5_categorical_accuracy = keras.metrics.top_k_categorical_accuracy\n",
    "f1_score = as_keras_metric(tf.contrib.metrics.f1_score)\n",
    "metric_list = [top_5_categorical_accuracy, f1_score]\n",
    "\n",
    "# Compute sample weights\n",
    "sample_weight_array = sample_weighter(labels_array=labels_train_encoded)\n",
    "\n",
    "model = getSimpleModelV7(num_classes=num_classes, resize_width=100, metric_list=metric_list)"
   ]
  },
  {
   "cell_type": "code",
   "execution_count": 17,
   "metadata": {},
   "outputs": [
    {
     "name": "stdout",
     "output_type": "stream",
     "text": [
      "Epoch 291/300\n",
      "25361/25361 [==============================] - 27s 1ms/step - loss: 1.2310e-04 - top_k_categorical_accuracy: 0.7170 - f1_score: 0.6658\n",
      "Epoch 292/300\n",
      "25361/25361 [==============================] - 27s 1ms/step - loss: 1.2399e-04 - top_k_categorical_accuracy: 0.7133 - f1_score: 0.6654\n",
      "Epoch 293/300\n",
      "25361/25361 [==============================] - 27s 1ms/step - loss: 1.2430e-04 - top_k_categorical_accuracy: 0.7111 - f1_score: 0.6650\n",
      "Epoch 294/300\n",
      "25361/25361 [==============================] - 26s 1ms/step - loss: 1.2300e-04 - top_k_categorical_accuracy: 0.7149 - f1_score: 0.6646\n",
      "Epoch 295/300\n",
      "25361/25361 [==============================] - 27s 1ms/step - loss: 1.2400e-04 - top_k_categorical_accuracy: 0.7130 - f1_score: 0.6642\n",
      "Epoch 296/300\n",
      "25361/25361 [==============================] - 27s 1ms/step - loss: 1.2310e-04 - top_k_categorical_accuracy: 0.7172 - f1_score: 0.6639\n",
      "Epoch 297/300\n",
      "25361/25361 [==============================] - 27s 1ms/step - loss: 1.2321e-04 - top_k_categorical_accuracy: 0.7150 - f1_score: 0.6635\n",
      "Epoch 298/300\n",
      "25361/25361 [==============================] - 27s 1ms/step - loss: 1.2276e-04 - top_k_categorical_accuracy: 0.7195 - f1_score: 0.6631\n",
      "Epoch 299/300\n",
      "25361/25361 [==============================] - 27s 1ms/step - loss: 1.2253e-04 - top_k_categorical_accuracy: 0.7162 - f1_score: 0.6627\n",
      "Epoch 300/300\n",
      "25361/25361 [==============================] - 27s 1ms/step - loss: 1.2221e-04 - top_k_categorical_accuracy: 0.7202 - f1_score: 0.6623\n"
     ]
    },
    {
     "data": {
      "text/plain": [
       "<keras.callbacks.History at 0x7fa35859cd68>"
      ]
     },
     "execution_count": 17,
     "metadata": {},
     "output_type": "execute_result"
    }
   ],
   "source": [
    "np.random.seed(2019)\n",
    "set_random_seed(2019)\n",
    "model.load_weights('models/weights-model7-290.hdf5')\n",
    "model.fit(X_train, y_train, epochs=300, shuffle=True, sample_weight=sample_weight_array,\n",
    "          callbacks=[checkpoint], initial_epoch=290)"
   ]
  },
  {
   "cell_type": "markdown",
   "metadata": {},
   "source": [
    "Evaluate models"
   ]
  },
  {
   "cell_type": "code",
   "execution_count": 21,
   "metadata": {},
   "outputs": [
    {
     "name": "stdout",
     "output_type": "stream",
     "text": [
      "['loss', 'top_k_categorical_accuracy', 'f1_score']\n",
      "25361/25361 [==============================] - 15s 577us/step\n",
      "[6.092919470755198, 0.39134892158071904, 0.45393234214724054]\n"
     ]
    }
   ],
   "source": [
    "model.load_weights('models/weights-model7-001.hdf5')\n",
    "print(model.metrics_names)\n",
    "print(model.evaluate(X_train, y_train))"
   ]
  },
  {
   "cell_type": "code",
   "execution_count": 18,
   "metadata": {},
   "outputs": [],
   "source": [
    "epoch_no_total = 300\n",
    "top_5_accuracy_list = []\n",
    "f1_score_list = []\n",
    "for epoch_no in range(1, epoch_no_total + 1):\n",
    "    model.load_weights('models/weights-model7-{:03d}.hdf5'.format(epoch_no))\n",
    "    _, top_5_accuracy, f1_score = model.evaluate(X_train, y_train, verbose=0)\n",
    "    top_5_accuracy_list.append(top_5_accuracy)\n",
    "    f1_score_list.append(f1_score)"
   ]
  },
  {
   "cell_type": "code",
   "execution_count": 19,
   "metadata": {},
   "outputs": [
    {
     "data": {
      "text/plain": [
       "<matplotlib.legend.Legend at 0x7fa358462780>"
      ]
     },
     "execution_count": 19,
     "metadata": {},
     "output_type": "execute_result"
    },
    {
     "data": {
      "image/png": "[encoded data removed]",
      "text/plain": [
       "<Figure size 432x288 with 1 Axes>"
      ]
     },
     "metadata": {
      "needs_background": "light"
     },
     "output_type": "display_data"
    }
   ],
   "source": [
    "plt.plot(list(range(1, epoch_no_total + 1)), top_5_accuracy_list, label='Top 5 Accuracy')\n",
    "plt.plot(list(range(1, epoch_no_total + 1)), f1_score_list, label='F1 score')\n",
    "plt.xlabel('Epoch number')\n",
    "plt.ylabel('Training Accuracy')\n",
    "plt.legend(loc='best')"
   ]
  },
  {
   "cell_type": "markdown",
   "metadata": {},
   "source": [
    "Model prediction"
   ]
  },
  {
   "cell_type": "code",
   "execution_count": 20,
   "metadata": {},
   "outputs": [],
   "source": [
    "data_test_norm = (data_test / 255).astype(np.float32)\n",
    "\n",
    "model.load_weights('models/weights-model7-120.hdf5')\n",
    "\n",
    "# Save final weights if it doesn't exist\n",
    "weights_path = 'models/weights-model7-final.hdf5'\n",
    "if os.path.exists(weights_path):\n",
    "    print('Path {} exists'.format(weights_path))\n",
    "else:\n",
    "    model.save_weights(weights_path)\n",
    "\n",
    "preds = model.predict(data_test_norm)"
   ]
  },
  {
   "cell_type": "markdown",
   "metadata": {},
   "source": [
    "Obtain labels with top 5 softmax values for each array row and concatenate labels"
   ]
  },
  {
   "cell_type": "code",
   "execution_count": 21,
   "metadata": {},
   "outputs": [],
   "source": [
    "top5_indices = np.apply_along_axis(array_filter, arr=preds, axis=1, n_top=5, labels=label_encoder.classes_)\n",
    "predictions_array = np.apply_along_axis(array_to_string, arr=top5_indices, axis=1)"
   ]
  },
  {
   "cell_type": "markdown",
   "metadata": {},
   "source": [
    "Create submission DataFrame and export as CSV file"
   ]
  },
  {
   "cell_type": "code",
   "execution_count": 22,
   "metadata": {},
   "outputs": [
    {
     "name": "stdout",
     "output_type": "stream",
     "text": [
      "           Image                                                 Id\n",
      "0  660352b03.jpg  new_whale w_564a34b w_9da1811 w_b9c99cc w_b4fe6b0\n",
      "1  bec66f23c.jpg  new_whale w_3002b59 w_6ad771b w_488865e w_59052ad\n",
      "2  fb8c2c146.jpg  new_whale w_83cc0ec w_9713cc3 w_d72771c w_73282ec\n",
      "3  0ff9cd790.jpg  new_whale w_c158581 w_c0e2505 w_553d3d0 w_c85ff1e\n",
      "4  861e6c332.jpg  new_whale w_75f6ffa w_b938e96 w_af367c3 w_27597ff\n"
     ]
    }
   ],
   "source": [
    "submission_df = pd.DataFrame({'Image': filenames_test, 'Id': predictions_array})\n",
    "submission_df.to_csv('data/derived/submission_v7.csv', index=False)\n",
    "print(submission_df.head())"
   ]
  },
  {
   "cell_type": "markdown",
   "metadata": {},
   "source": [
    "Kaggle score: 0.301"
   ]
  },
  {
   "cell_type": "code",
   "execution_count": null,
   "metadata": {},
   "outputs": [],
   "source": []
  }
 ],
 "metadata": {
  "kernelspec": {
   "display_name": "Python 3",
   "language": "python",
   "name": "python3"
  },
  "language_info": {
   "codemirror_mode": {
    "name": "ipython",
    "version": 3
   },
   "file_extension": ".py",
   "mimetype": "text/x-python",
   "name": "python",
   "nbconvert_exporter": "python",
   "pygments_lexer": "ipython3",
   "version": "3.6.8"
  }
 },
 "nbformat": 4,
 "nbformat_minor": 2
}
