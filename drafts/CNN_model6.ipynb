{
 "cells": [
  {
   "cell_type": "markdown",
   "metadata": {},
   "source": [
    "# Simple CNN Model (Model 6)"
   ]
  },
  {
   "cell_type": "markdown",
   "metadata": {},
   "source": [
    "Model 6, class imbalance accounted for, similar to Model 2 except for one additional FC layer and dropout layer"
   ]
  },
  {
   "cell_type": "markdown",
   "metadata": {},
   "source": [
    "## Imports"
   ]
  },
  {
   "cell_type": "markdown",
   "metadata": {},
   "source": [
    "Import libraries"
   ]
  },
  {
   "cell_type": "code",
   "execution_count": 1,
   "metadata": {},
   "outputs": [],
   "source": [
    "%load_ext autoreload\n",
    "%autoreload 2"
   ]
  },
  {
   "cell_type": "code",
   "execution_count": 2,
   "metadata": {},
   "outputs": [
    {
     "name": "stderr",
     "output_type": "stream",
     "text": [
      "Using TensorFlow backend.\n"
     ]
    }
   ],
   "source": [
    "import numpy as np\n",
    "import pandas as pd\n",
    "from matplotlib import pyplot as plt\n",
    "\n",
    "import pickle, os\n",
    "from sklearn.preprocessing import LabelEncoder\n",
    "import tensorflow as tf\n",
    "from tensorflow import set_random_seed\n",
    "import keras\n",
    "from keras.utils.np_utils import to_categorical\n",
    "from keras.callbacks import ModelCheckpoint\n",
    "\n",
    "from src.sampler import sample_weighter\n",
    "from src.model_api import getSimpleModelV6\n",
    "from src.prediction import array_filter, array_to_string\n",
    "from src.custom_metric import as_keras_metric"
   ]
  },
  {
   "cell_type": "markdown",
   "metadata": {},
   "source": [
    "Import data"
   ]
  },
  {
   "cell_type": "code",
   "execution_count": 3,
   "metadata": {},
   "outputs": [
    {
     "name": "stdout",
     "output_type": "stream",
     "text": [
      "Shape of data_train: (25361, 100, 100, 3)\n",
      "Length of labels_train: 25361\n"
     ]
    }
   ],
   "source": [
    "with open('data/derived/data_train.pickle', 'rb') as file:\n",
    "    data_train = pickle.load(file)\n",
    "with open('data/derived/labels_train.pickle', 'rb') as file:\n",
    "    labels_train = pickle.load(file)\n",
    "print('Shape of data_train:', data_train.shape)\n",
    "print('Length of labels_train:', len(labels_train))"
   ]
  },
  {
   "cell_type": "code",
   "execution_count": 4,
   "metadata": {},
   "outputs": [
    {
     "name": "stdout",
     "output_type": "stream",
     "text": [
      "Shape of data_test: (7960, 100, 100, 3)\n",
      "Length of filename_test: 7960\n"
     ]
    }
   ],
   "source": [
    "with open('data/derived/data_test.pickle', 'rb') as file:\n",
    "    data_test = pickle.load(file)\n",
    "with open('data/derived/test_file_names.pickle', 'rb') as file:\n",
    "    filenames_test = pickle.load(file)\n",
    "print('Shape of data_test:', data_test.shape)\n",
    "print('Length of filename_test:', len(filenames_test))"
   ]
  },
  {
   "cell_type": "markdown",
   "metadata": {},
   "source": [
    "Convert labels to integers for model training"
   ]
  },
  {
   "cell_type": "code",
   "execution_count": 5,
   "metadata": {},
   "outputs": [
    {
     "name": "stdout",
     "output_type": "stream",
     "text": [
      "Original labels: ['new_whale', 'new_whale', 'w_75d0e61', 'w_396c12b', 'w_d8de44c']\n",
      "Encoded labels: [   0    0 2308 1134 4209]\n",
      "Label encoder classes: ['new_whale' 'w_0003639' 'w_0003c59' 'w_0027efa' 'w_00289b1']\n"
     ]
    }
   ],
   "source": [
    "label_encoder = LabelEncoder()\n",
    "labels_train_encoded = label_encoder.fit_transform(labels_train)\n",
    "print('Original labels: {}'.format(labels_train[:5]))\n",
    "print('Encoded labels: {}'.format(labels_train_encoded[:5]))\n",
    "print('Label encoder classes: {}'.format(label_encoder.classes_[:5]))"
   ]
  },
  {
   "cell_type": "markdown",
   "metadata": {},
   "source": [
    "Compute sample size and number of classes"
   ]
  },
  {
   "cell_type": "code",
   "execution_count": 6,
   "metadata": {},
   "outputs": [
    {
     "name": "stdout",
     "output_type": "stream",
     "text": [
      "Sample size: 25361\n",
      "Number of clases: 5005\n"
     ]
    }
   ],
   "source": [
    "sample_size = len(labels_train_encoded)\n",
    "num_classes = len(set(labels_train_encoded))\n",
    "print('Sample size:', sample_size)\n",
    "print('Number of clases:', num_classes)"
   ]
  },
  {
   "cell_type": "markdown",
   "metadata": {},
   "source": [
    "## Train Single CNN Model"
   ]
  },
  {
   "cell_type": "markdown",
   "metadata": {},
   "source": [
    "Simple CNN model (Random Seed = 2019, assuming class imbalance)"
   ]
  },
  {
   "cell_type": "code",
   "execution_count": 7,
   "metadata": {},
   "outputs": [
    {
     "name": "stdout",
     "output_type": "stream",
     "text": [
      "Shape of X_train: (25361, 100, 100, 3)\n",
      "Shape of y_train: (25361, 5005)\n"
     ]
    }
   ],
   "source": [
    "X_train = (data_train / 255).astype(np.float32)\n",
    "y_train = to_categorical(labels_train_encoded, num_classes=num_classes)\n",
    "\n",
    "print('Shape of X_train:', X_train.shape)\n",
    "print('Shape of y_train:', y_train.shape)"
   ]
  },
  {
   "cell_type": "code",
   "execution_count": 8,
   "metadata": {},
   "outputs": [],
   "source": [
    "filepath = 'models/weights-model6-{epoch:03d}.hdf5'\n",
    "checkpoint = ModelCheckpoint(filepath, monitor='loss', save_best_only=False, save_weights_only=True,\n",
    "                             mode='min')\n",
    "\n",
    "# Create precision and recall metrics\n",
    "# Note: top_k_categorical_accuracy function in keras.metrics has default k value of 5\n",
    "top_5_categorical_accuracy = keras.metrics.top_k_categorical_accuracy\n",
    "f1_score = as_keras_metric(tf.contrib.metrics.f1_score)\n",
    "metric_list = [top_5_categorical_accuracy, f1_score]\n",
    "\n",
    "# Compute sample weights\n",
    "sample_weight_array = sample_weighter(labels_array=labels_train_encoded)\n",
    "\n",
    "model = getSimpleModelV6(num_classes=num_classes, resize_width=100, metric_list=metric_list)"
   ]
  },
  {
   "cell_type": "code",
   "execution_count": 19,
   "metadata": {},
   "outputs": [
    {
     "name": "stdout",
     "output_type": "stream",
     "text": [
      "Epoch 191/200\n",
      "25361/25361 [==============================] - 67s 3ms/step - loss: 1.1712e-04 - top_k_categorical_accuracy: 0.7181 - f1_score: 0.4428\n",
      "Epoch 192/200\n",
      "25361/25361 [==============================] - 66s 3ms/step - loss: 1.1685e-04 - top_k_categorical_accuracy: 0.7167 - f1_score: 0.4432\n",
      "Epoch 193/200\n",
      "25361/25361 [==============================] - 66s 3ms/step - loss: 1.1717e-04 - top_k_categorical_accuracy: 0.7170 - f1_score: 0.4436\n",
      "Epoch 194/200\n",
      "25361/25361 [==============================] - 66s 3ms/step - loss: 1.1639e-04 - top_k_categorical_accuracy: 0.7159 - f1_score: 0.4440\n",
      "Epoch 195/200\n",
      "25361/25361 [==============================] - 66s 3ms/step - loss: 1.1675e-04 - top_k_categorical_accuracy: 0.7188 - f1_score: 0.4445\n",
      "Epoch 196/200\n",
      "25361/25361 [==============================] - 66s 3ms/step - loss: 1.1649e-04 - top_k_categorical_accuracy: 0.7178 - f1_score: 0.4449\n",
      "Epoch 197/200\n",
      "25361/25361 [==============================] - 66s 3ms/step - loss: 1.1587e-04 - top_k_categorical_accuracy: 0.7183 - f1_score: 0.4453\n",
      "Epoch 198/200\n",
      "25361/25361 [==============================] - 66s 3ms/step - loss: 1.1627e-04 - top_k_categorical_accuracy: 0.7213 - f1_score: 0.4457\n",
      "Epoch 199/200\n",
      "25361/25361 [==============================] - 66s 3ms/step - loss: 1.1542e-04 - top_k_categorical_accuracy: 0.7230 - f1_score: 0.4461\n",
      "Epoch 200/200\n",
      "25361/25361 [==============================] - 66s 3ms/step - loss: 1.1636e-04 - top_k_categorical_accuracy: 0.7187 - f1_score: 0.4465\n"
     ]
    },
    {
     "data": {
      "text/plain": [
       "<keras.callbacks.History at 0x7f282855cc88>"
      ]
     },
     "execution_count": 19,
     "metadata": {},
     "output_type": "execute_result"
    }
   ],
   "source": [
    "np.random.seed(2019)\n",
    "set_random_seed(2019)\n",
    "model.load_weights('models/weights-model6-190.hdf5')\n",
    "model.fit(X_train, y_train, epochs=200, shuffle=True, sample_weight=sample_weight_array,\n",
    "          callbacks=[checkpoint], initial_epoch=190)"
   ]
  },
  {
   "cell_type": "markdown",
   "metadata": {},
   "source": [
    "Evaluate models"
   ]
  },
  {
   "cell_type": "code",
   "execution_count": 17,
   "metadata": {},
   "outputs": [
    {
     "name": "stdout",
     "output_type": "stream",
     "text": [
      "['loss', 'top_k_categorical_accuracy', 'f1_score']\n",
      "25361/25361 [==============================] - 28s 1ms/step\n",
      "[6.6423378788866945, 0.39138835220254, 0.39616107920109156]\n"
     ]
    }
   ],
   "source": [
    "model.load_weights('models/weights-model6-001.hdf5')\n",
    "print(model.metrics_names)\n",
    "print(model.evaluate(X_train, y_train))"
   ]
  },
  {
   "cell_type": "code",
   "execution_count": 9,
   "metadata": {},
   "outputs": [],
   "source": [
    "epoch_no_total = 200\n",
    "top_5_accuracy_list = []\n",
    "f1_score_list = []\n",
    "for epoch_no in range(1, epoch_no_total + 1):\n",
    "    model.load_weights('models/weights-model6-{:03d}.hdf5'.format(epoch_no))\n",
    "    _, top_5_accuracy, f1_score = model.evaluate(X_train, y_train, verbose=0)\n",
    "    top_5_accuracy_list.append(top_5_accuracy)\n",
    "    f1_score_list.append(f1_score)"
   ]
  },
  {
   "cell_type": "code",
   "execution_count": 11,
   "metadata": {},
   "outputs": [
    {
     "data": {
      "text/plain": [
       "<matplotlib.legend.Legend at 0x7f3812a2bb38>"
      ]
     },
     "execution_count": 11,
     "metadata": {},
     "output_type": "execute_result"
    },
    {
     "data": {
      "image/png": "[encoded data removed]",
      "text/plain": [
       "<Figure size 432x288 with 1 Axes>"
      ]
     },
     "metadata": {
      "needs_background": "light"
     },
     "output_type": "display_data"
    }
   ],
   "source": [
    "plt.plot(list(range(1, epoch_no_total + 1)), top_5_accuracy_list, label='Top 5 Accuracy')\n",
    "plt.plot(list(range(1, epoch_no_total + 1)), f1_score_list, label='F1 score')\n",
    "plt.xlabel('Epoch number')\n",
    "plt.ylabel('Training Accuracy')\n",
    "plt.legend(loc='best')"
   ]
  },
  {
   "cell_type": "markdown",
   "metadata": {},
   "source": [
    "Model prediction"
   ]
  },
  {
   "cell_type": "code",
   "execution_count": 24,
   "metadata": {},
   "outputs": [],
   "source": [
    "data_test_norm = (data_test / 255).astype(np.float32)\n",
    "\n",
    "model.load_weights('models/weights-model6-100.hdf5')\n",
    "\n",
    "# Save final weights if it doesn't exist\n",
    "weights_path = 'models/weights-model6-final.hdf5'\n",
    "if os.path.exists(weights_path):\n",
    "    print('Path {} exists'.format(weights_path))\n",
    "else:\n",
    "    model.save_weights(weights_path)\n",
    "\n",
    "preds = model.predict(data_test_norm)"
   ]
  },
  {
   "cell_type": "markdown",
   "metadata": {},
   "source": [
    "Obtain labels with top 5 softmax values for each array row and concatenate labels"
   ]
  },
  {
   "cell_type": "code",
   "execution_count": 25,
   "metadata": {},
   "outputs": [],
   "source": [
    "top5_indices = np.apply_along_axis(array_filter, arr=preds, axis=1, n_top=5, labels=label_encoder.classes_)\n",
    "predictions_array = np.apply_along_axis(array_to_string, arr=top5_indices, axis=1)"
   ]
  },
  {
   "cell_type": "markdown",
   "metadata": {},
   "source": [
    "Create submission DataFrame and export as CSV file"
   ]
  },
  {
   "cell_type": "code",
   "execution_count": 26,
   "metadata": {},
   "outputs": [
    {
     "name": "stdout",
     "output_type": "stream",
     "text": [
      "           Image                                                 Id\n",
      "0  660352b03.jpg  new_whale w_b9c99cc w_022b708 w_8739af5 w_3ff114c\n",
      "1  bec66f23c.jpg  new_whale w_e906edd w_8b86b95 w_cf25b84 w_9573686\n",
      "2  fb8c2c146.jpg  new_whale w_16def42 w_cac9bdb w_8a1b71c w_f971ecb\n",
      "3  0ff9cd790.jpg  w_71b9a85 new_whale w_83a4279 w_c0e2505 w_f497e3f\n",
      "4  861e6c332.jpg  new_whale w_6822dbc w_8c25681 w_625e590 w_022b708\n"
     ]
    }
   ],
   "source": [
    "submission_df = pd.DataFrame({'Image': filenames_test, 'Id': predictions_array})\n",
    "submission_df.to_csv('data/derived/submission_v6.csv', index=False)\n",
    "print(submission_df.head())"
   ]
  },
  {
   "cell_type": "markdown",
   "metadata": {},
   "source": [
    "Kaggle score: 0.334"
   ]
  },
  {
   "cell_type": "code",
   "execution_count": null,
   "metadata": {},
   "outputs": [],
   "source": []
  }
 ],
 "metadata": {
  "kernelspec": {
   "display_name": "Python 3",
   "language": "python",
   "name": "python3"
  },
  "language_info": {
   "codemirror_mode": {
    "name": "ipython",
    "version": 3
   },
   "file_extension": ".py",
   "mimetype": "text/x-python",
   "name": "python",
   "nbconvert_exporter": "python",
   "pygments_lexer": "ipython3",
   "version": "3.6.8"
  }
 },
 "nbformat": 4,
 "nbformat_minor": 2
}
